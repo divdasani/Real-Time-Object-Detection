{
 "cells": [
  {
   "cell_type": "markdown",
   "metadata": {},
   "source": [
    "# Real Time Object Detection\n",
    "## Div Dasani\n",
    "Detecting objects in a video stream in real time using OpenCV. In this example I employ a car classifier and a stream of highway traffic."
   ]
  },
  {
   "cell_type": "code",
   "execution_count": 4,
   "metadata": {
    "collapsed": true
   },
   "outputs": [],
   "source": [
    "import numpy as np\n",
    "import cv2\n",
    "import time\n",
    "import pafy"
   ]
  },
  {
   "cell_type": "code",
   "execution_count": null,
   "metadata": {
    "collapsed": true
   },
   "outputs": [],
   "source": [
    "stream_url = \"https://www.youtube.com/watch?v=EUUT1CW_9cg\""
   ]
  },
  {
   "cell_type": "code",
   "execution_count": 5,
   "metadata": {
    "collapsed": true
   },
   "outputs": [],
   "source": [
    "def detect(url, cascade):\n",
    "    classifier = cv2.CascadeClassifier(cascade)\n",
    "    video = pafy.new(url)\n",
    "    best = video.getbest(preftype=\"mp4\")\n",
    "    capture = cv2.VideoCapture(best.url)\n",
    "\n",
    "    while capture.isOpened():\n",
    "\n",
    "        response, frame = capture.read()\n",
    "        if response:\n",
    "\n",
    "            gray = cv2.cvtColor(frame, cv2.COLOR_BGR2GRAY)\n",
    "\n",
    "            objs = classifier.detectMultiScale(gray, 1.2, 3) \n",
    "\n",
    "            for (x, y, w, h) in objs:\n",
    "                cv2.rectangle(frame, (x,y), (x+w, y+h), (0,0,0), 3)\n",
    "                cv2.imshow('Feed', frame)\n",
    "\n",
    "            if cv2.waitKey(1) & 0xFF == ord('q'):\n",
    "                break\n",
    "        else:\n",
    "            break    \t\n",
    "\n",
    "\n",
    "    capture.release()\n",
    "    cv2.destroyAllWindows()"
   ]
  },
  {
   "cell_type": "code",
   "execution_count": null,
   "metadata": {
    "collapsed": true
   },
   "outputs": [],
   "source": [
    "cascade = 'haarcascade_car.xml'\n",
    "detect(stream_url, cascade)"
   ]
  }
 ],
 "metadata": {
  "kernelspec": {
   "display_name": "Python 3",
   "language": "python",
   "name": "python3"
  },
  "language_info": {
   "codemirror_mode": {
    "name": "ipython",
    "version": 3
   },
   "file_extension": ".py",
   "mimetype": "text/x-python",
   "name": "python",
   "nbconvert_exporter": "python",
   "pygments_lexer": "ipython3",
   "version": "3.6.3"
  }
 },
 "nbformat": 4,
 "nbformat_minor": 2
}
